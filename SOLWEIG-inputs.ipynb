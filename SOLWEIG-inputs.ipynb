{
 "cells": [
  {
   "cell_type": "markdown",
   "metadata": {},
   "source": [
    "# Dev"
   ]
  },
  {
   "cell_type": "code",
   "execution_count": 1,
   "metadata": {},
   "outputs": [],
   "source": [
    "# Run this if you are modifying external functions\n",
    "import sys\n",
    "sys.dont_write_bytecode=True\n",
    "\n",
    "%load_ext autoreload\n",
    "\n",
    "# Add this before any functions you are importing that you have changed\n",
    "%autoreload"
   ]
  },
  {
   "cell_type": "markdown",
   "metadata": {},
   "source": [
    "# Setup"
   ]
  },
  {
   "cell_type": "code",
   "execution_count": 4,
   "metadata": {},
   "outputs": [],
   "source": [
    "## Data folder\n",
    "import os\n",
    "def file_path_prefix(file_prefix):\n",
    "    folder = f'../data/{file_prefix}'\n",
    "    os.makedirs(folder, exist_ok=True)\n",
    "    return f'{folder}/{file_prefix}'"
   ]
  },
  {
   "cell_type": "markdown",
   "metadata": {},
   "source": [
    "# Inputs"
   ]
  },
  {
   "cell_type": "code",
   "execution_count": 9,
   "metadata": {},
   "outputs": [],
   "source": [
    "# Inputs\n",
    "## Name of the area of interest\n",
    "aoi_name='amsterdam-test'\n",
    "\n",
    "## Path to polygon file the area you want data for\n",
    "## From https://geojson.io/#new&map=15.37/52.374412/4.905746\n",
    "aoi_url = '../data/amsterdam-test.geojson'\n"
   ]
  },
  {
   "cell_type": "markdown",
   "metadata": {},
   "source": [
    "# Get Polygon for AOI"
   ]
  },
  {
   "cell_type": "code",
   "execution_count": null,
   "metadata": {},
   "outputs": [],
   "source": [
    "# load boundary\n",
    "import geopandas as gpd\n",
    "\n",
    "# If you are using an SSO accout, you need to be authenticated first\n",
    "# !aws sso login\n",
    "aoi_gdf = gpd.read_file(aoi_url, driver='GeoJSON')\n",
    "\n",
    "aoi_gdf = aoi_gdf.to_crs(epsg=4326)\n",
    "\n",
    "## Write to file\n",
    "\n",
    "file_path = f'{file_path_prefix(aoi_name)}-boundary.geojson'\n",
    "aoi_gdf.to_file(file_path, driver='GeoJSON')\n",
    "print(f'File saved to {file_path}')\n",
    "\n",
    "\n",
    "\n",
    "## Get area in km2 of the city rounded to the nearest integer\n",
    "aoi_gdf_area = aoi_gdf['geometry'].to_crs(epsg=3857).area/ 10**6 # in km2\n",
    "aoi_gdf_area = round(aoi_gdf_area.values[0], 3)\n",
    "print(f'Area: {aoi_gdf_area} sqkm')"
   ]
  },
  {
   "cell_type": "markdown",
   "metadata": {},
   "source": [
    "# LULC"
   ]
  },
  {
   "cell_type": "code",
   "execution_count": null,
   "metadata": {},
   "outputs": [],
   "source": [
    "# Define function\n",
    "from dask.diagnostics import ProgressBar\n",
    "import xarray as xr\n",
    "import xee\n",
    "import ee\n",
    "\n",
    "from city_metrix.layers import layer, Layer\n",
    "\n",
    "class OpenUrban(Layer):\n",
    "    def __init__(self, band='b1', **kwargs):\n",
    "        super().__init__(**kwargs)\n",
    "        self.band = band\n",
    "\n",
    "    def get_data(self, bbox):\n",
    "        dataset = ee.ImageCollection(\"projects/wri-datalab/cities/OpenUrban/OpenUrban_LULC\")\n",
    "        ## It is important if the cif code is pulling data from GEE to take the maximum value where the image tiles overlap\n",
    "\n",
    "\n",
    "        # Check for data\n",
    "        if dataset.filterBounds(ee.Geometry.BBox(*bbox)).size().getInfo() == 0:\n",
    "            print(\"No Data Available\")\n",
    "        else:\n",
    "            ulu = ee.ImageCollection(dataset\n",
    "                                     .filterBounds(ee.Geometry.BBox(*bbox))\n",
    "                                     .select(self.band)\n",
    "                                     .reduce(ee.Reducer.firstNonNull())\n",
    "                                     .rename('lulc')\n",
    "                                     )\n",
    "\n",
    "        data = layer.get_image_collection(ulu, bbox, 1, \"urban land use\").lulc\n",
    "\n",
    "        return data\n",
    "    \n"
   ]
  },
  {
   "cell_type": "code",
   "execution_count": null,
   "metadata": {},
   "outputs": [],
   "source": [
    "# Load data\n",
    "aoi_LULC = OpenUrban().get_data(aoi_gdf.total_bounds)\n",
    "\n",
    "# Get resolution of the data\n",
    "aoi_LULC.rio.resolution()"
   ]
  },
  {
   "cell_type": "code",
   "execution_count": null,
   "metadata": {},
   "outputs": [],
   "source": [
    "# Define reclassification\n",
    "from enum import Enum\n",
    "\n",
    "# From https://gfw.atlassian.net/wiki/spaces/CIT/pages/872349733/Surface+characteristics+by+LULC#Major-update-to-LULC-codes\n",
    "class OpenUrbanClass(Enum):\n",
    "    GREEN_SPACE_OTHER = 110.0\n",
    "    BUILT_UP_OTHER = 120.0\n",
    "    BARREN = 130.0\n",
    "    PUBLIC_OPEN_SPACE = 200.0\n",
    "    WATER = 300.0\n",
    "    PARKING = 400.0\n",
    "    ROADS = 500.0\n",
    "    BUILDINGS_UNCLASSIFIED = 600.0\n",
    "    BUILDINGS_UNCLASSIFIED_LOW_SLOPE = 601.0\n",
    "    BUILDINGS_UNCLASSIFIED_HIGH_SLOPE = 602.0\n",
    "    BUILDINGS_RESIDENTIAL = 610.0\n",
    "    BUILDINGS_RESIDENTIAL_LOW_SLOPE = 611.0\n",
    "    BUILDINGS_RESIDENTIAL_HIGH_SLOPE = 612.0\n",
    "    BUILDINGS_NON_RESIDENTIAL = 620.0\n",
    "    BUILDINGS_NON_RESIDENTIAL_LOW_SLOPE = 621.0\n",
    "    BUILDINGS_NON_RESIDENTIAL_HIGH_SLOPE = 622.0\n",
    "\n",
    "# Note, it seems these have to be in the same order as the OpenUrbanClass\n",
    "reclass_map = {\n",
    "    OpenUrbanClass.GREEN_SPACE_OTHER.value: 5.0,\n",
    "    OpenUrbanClass.BUILT_UP_OTHER.value: 1.0,\n",
    "    OpenUrbanClass.BARREN.value: 6.0,\n",
    "    OpenUrbanClass.PUBLIC_OPEN_SPACE.value: 5.0,\n",
    "    OpenUrbanClass.WATER.value: 7.0,\n",
    "    OpenUrbanClass.PARKING.value: 1.0,\n",
    "    OpenUrbanClass.ROADS.value: 1.0,\n",
    "    OpenUrbanClass.BUILDINGS_UNCLASSIFIED.value: 2.0,\n",
    "    OpenUrbanClass.BUILDINGS_UNCLASSIFIED_LOW_SLOPE.value: 2.0,\n",
    "    OpenUrbanClass.BUILDINGS_UNCLASSIFIED_HIGH_SLOPE.value: 2.0,\n",
    "    OpenUrbanClass.BUILDINGS_RESIDENTIAL.value: 2.0,\n",
    "    OpenUrbanClass.BUILDINGS_RESIDENTIAL_LOW_SLOPE.value: 2.0,\n",
    "    OpenUrbanClass.BUILDINGS_RESIDENTIAL_HIGH_SLOPE.value: 2.0,\n",
    "    OpenUrbanClass.BUILDINGS_NON_RESIDENTIAL.value: 2.0,\n",
    "    OpenUrbanClass.BUILDINGS_NON_RESIDENTIAL_LOW_SLOPE.value: 2.0,\n",
    "    OpenUrbanClass.BUILDINGS_NON_RESIDENTIAL_HIGH_SLOPE.value: 2.0,\n",
    "    }\n",
    "\n",
    "reclass_map"
   ]
  },
  {
   "cell_type": "code",
   "execution_count": null,
   "metadata": {},
   "outputs": [],
   "source": [
    "# Reclassify\n",
    "from xrspatial.classify import reclassify\n",
    "\n",
    "aoi_LULC_to_solweig = reclassify(aoi_LULC, bins=list(reclass_map.keys()), new_values=list(reclass_map.values()), name='lulc')\n"
   ]
  },
  {
   "cell_type": "code",
   "execution_count": null,
   "metadata": {},
   "outputs": [],
   "source": [
    "# Check results\n",
    "aoi_LULC_counts = aoi_LULC.groupby(aoi_LULC).count().to_dataframe()\n",
    "print(aoi_LULC_counts)\n",
    "\n",
    "aoi_LULC_V2_to_solweig_counts = aoi_LULC_V2_to_solweig.groupby(aoi_LULC_V2_to_solweig).count().to_dataframe()\n",
    "print(aoi_LULC_V2_to_solweig_counts)"
   ]
  },
  {
   "cell_type": "markdown",
   "metadata": {},
   "source": []
  },
  {
   "cell_type": "code",
   "execution_count": null,
   "metadata": {},
   "outputs": [],
   "source": [
    "# Remove zeros\n",
    "remove_value = 0\n",
    "\n",
    "def count_occurrences(data, value):\n",
    "    return data.where(data==value).count().item()\n",
    "\n",
    "count = count_occurrences(aoi_LULC_to_solweig, remove_value)\n",
    "\n",
    "if count > 0:\n",
    "    print(f'Found {count} occurrences of the value {remove_value}. Removing...')\n",
    "    aoi_LULC_to_solweig = aoi_LULC_to_solweig.where(aoi_LULC_to_solweig!=remove_value, drop=True)\n",
    "    count = count_occurrences(aoi_LULC_to_solweig, remove_value)\n",
    "    print(f'There are {count} occurrences of the value {remove_value} after removing.')\n",
    "else:\n",
    "    print(f'There were no occurrences of the value {remove_value} found in data.')\n"
   ]
  },
  {
   "cell_type": "code",
   "execution_count": null,
   "metadata": {},
   "outputs": [],
   "source": [
    "# Save data to file\n",
    "file_path = f'{file_path_prefix(aoi_name)}-lulc.tif'\n",
    "aoi_LULC_V2_to_solweig.astype('float32').rio.to_raster(raster_path=file_path, driver=\"COG\")\n",
    "print(f'File saved to {file_path}')"
   ]
  },
  {
   "cell_type": "markdown",
   "metadata": {},
   "source": [
    "# High Resolution 1m Global Canopy Height Maps"
   ]
  },
  {
   "cell_type": "code",
   "execution_count": null,
   "metadata": {},
   "outputs": [],
   "source": [
    "from city_metrix.layers import TreeCanopyHeight\n",
    "\n",
    "# Load layer\n",
    "aoi_TreeCanopyHeight = TreeCanopyHeight().get_data(aoi_gdf.total_bounds)\n",
    "\n",
    "# Get resolution of the data\n",
    "aoi_TreeCanopyHeight.rio.resolution()"
   ]
  },
  {
   "cell_type": "code",
   "execution_count": null,
   "metadata": {},
   "outputs": [],
   "source": [
    "aoi_TreeCanopyHeight.rio.crs"
   ]
  },
  {
   "cell_type": "code",
   "execution_count": null,
   "metadata": {},
   "outputs": [],
   "source": [
    "# Save data to file\n",
    "file_path = f'{file_path_prefix(aoi_name)}-TreeCanopyHeight.tif'\n",
    "aoi_TreeCanopyHeight.astype('float32').rio.to_raster(raster_path=file_path, driver=\"COG\")\n",
    "print(f'File saved to {file_path}')"
   ]
  },
  {
   "cell_type": "code",
   "execution_count": null,
   "metadata": {},
   "outputs": [],
   "source": [
    "aoi_TreeCanopyHeight.plot()"
   ]
  },
  {
   "cell_type": "markdown",
   "metadata": {},
   "source": [
    "# Building footprints"
   ]
  },
  {
   "cell_type": "code",
   "execution_count": null,
   "metadata": {},
   "outputs": [],
   "source": [
    "from city_metrix.layers import OvertureBuildings\n",
    "\n",
    "# Load layer\n",
    "aoi_OvertureBuildings = OvertureBuildings().get_data(aoi_gdf.total_bounds)\n",
    "\n",
    "# Get row and column count\n",
    "aoi_OvertureBuildings.shape\n"
   ]
  },
  {
   "cell_type": "code",
   "execution_count": null,
   "metadata": {},
   "outputs": [],
   "source": [
    "# Save data to file\n",
    "file_path = f'{file_path_prefix(aoi_name)}-OvertureBuildings.geojson'\n",
    "aoi_OvertureBuildings.to_file(file_path, driver='GeoJSON')\n",
    "print(f'File saved to {file_path}')\n"
   ]
  },
  {
   "cell_type": "markdown",
   "metadata": {},
   "source": [
    "# DSM"
   ]
  },
  {
   "cell_type": "code",
   "execution_count": null,
   "metadata": {},
   "outputs": [],
   "source": [
    "from city_metrix.layers import AlosDSM\n",
    "\n",
    "aoi_AlosDSM = AlosDSM().get_data(aoi_gdf.total_bounds)\n",
    "\n",
    "# Get resolution of the data\n",
    "aoi_AlosDSM.rio.resolution()"
   ]
  },
  {
   "cell_type": "code",
   "execution_count": null,
   "metadata": {},
   "outputs": [],
   "source": [
    "# Save data to file\n",
    "file_path = f'{file_path_prefix(aoi_name)}-aoi_AlosDSM.tif'\n",
    "aoi_AlosDSM.rio.to_raster(raster_path=file_path, driver=\"COG\")\n",
    "print(f'File saved to {file_path}')"
   ]
  },
  {
   "cell_type": "code",
   "execution_count": null,
   "metadata": {},
   "outputs": [],
   "source": [
    "from rasterio.enums import Resampling\n",
    "\n",
    "dsm_1m = aoi_AlosDSM.rio.reproject(\n",
    "            dst_crs=aoi_AlosDSM.rio.crs,\n",
    "            resolution=1,\n",
    "            resampling=Resampling.bilinear\n",
    "        )\n",
    "\n",
    "# Get resolution of the data\n",
    "dsm_1m.rio.resolution()"
   ]
  },
  {
   "cell_type": "code",
   "execution_count": null,
   "metadata": {},
   "outputs": [],
   "source": [
    "# Save data to file\n",
    "file_path = f'{file_path_prefix(aoi_name)}-aoi_AlosDSM_1m.tif'\n",
    "dsm_1m.rio.to_raster(raster_path=file_path, driver=\"COG\")\n",
    "print(f'File saved to {file_path}')"
   ]
  },
  {
   "cell_type": "markdown",
   "metadata": {},
   "source": [
    "# DEM"
   ]
  },
  {
   "cell_type": "code",
   "execution_count": null,
   "metadata": {},
   "outputs": [],
   "source": [
    "from city_metrix.layers import NasaDEM\n",
    "\n",
    "aoi_NasaDEM = NasaDEM().get_data(aoi_gdf.total_bounds)\n",
    "\n",
    "# Get resolution of the data\n",
    "aoi_NasaDEM.rio.resolution()"
   ]
  },
  {
   "cell_type": "code",
   "execution_count": null,
   "metadata": {},
   "outputs": [],
   "source": [
    "# Save data to file\n",
    "file_path = f'{file_path_prefix(aoi_name)}-aoi_NasaDEM.tif'\n",
    "aoi_NasaDEM.rio.to_raster(raster_path=file_path, driver=\"COG\")\n",
    "print(f'File saved to {file_path}')"
   ]
  },
  {
   "cell_type": "code",
   "execution_count": null,
   "metadata": {},
   "outputs": [],
   "source": [
    "dem_1m = aoi_NasaDEM.rio.reproject(\n",
    "            dst_crs=aoi_NasaDEM.rio.crs,\n",
    "            resolution=1,\n",
    "            resampling=Resampling.bilinear\n",
    "        )\n",
    "\n",
    "# Get resolution of the data\n",
    "dem_1m.rio.resolution()"
   ]
  },
  {
   "cell_type": "code",
   "execution_count": null,
   "metadata": {},
   "outputs": [],
   "source": [
    "# Save data to file\n",
    "file_path = f'{file_path_prefix(aoi_name)}-aoi_NasaDEM_1m.tif'\n",
    "dem_1m.rio.to_raster(raster_path=file_path, driver=\"COG\")\n",
    "print(f'File saved to {file_path}')"
   ]
  },
  {
   "cell_type": "markdown",
   "metadata": {},
   "source": [
    "# Building height"
   ]
  },
  {
   "cell_type": "code",
   "execution_count": null,
   "metadata": {},
   "outputs": [],
   "source": [
    "aoi_height = aoi_AlosDSM - aoi_NasaDEM\n",
    "\n",
    "# Get resolution of the data\n",
    "aoi_height.rio.resolution()"
   ]
  },
  {
   "cell_type": "code",
   "execution_count": null,
   "metadata": {},
   "outputs": [],
   "source": [
    "from exactextract import exact_extract\n",
    "\n",
    "aoi_OvertureBuildings = aoi_OvertureBuildings.to_crs(aoi_AlosDSM.rio.crs)\n",
    "\n",
    "aoi_OvertureBuildings['AlosDSM_max'] = exact_extract(aoi_AlosDSM, aoi_OvertureBuildings, [\"max\"], output='pandas')['max']\n",
    "aoi_OvertureBuildings['NasaDEM_max'] = exact_extract(aoi_NasaDEM, aoi_OvertureBuildings, [\"max\"], output='pandas')['max']\n",
    "aoi_OvertureBuildings['height_max'] = exact_extract(aoi_height, aoi_OvertureBuildings, [\"max\"], output='pandas')['max']\n",
    "\n",
    "# Get row and column count\n",
    "aoi_OvertureBuildings.shape\n"
   ]
  },
  {
   "cell_type": "code",
   "execution_count": null,
   "metadata": {},
   "outputs": [],
   "source": [
    "# Write to file\n",
    "file_path = f'{file_path_prefix(aoi_name)}-BuildingHights.geojson'\n",
    "aoi_OvertureBuildings.to_file(file_path, driver='GeoJSON')\n",
    "print(f'File saved to {file_path}')"
   ]
  },
  {
   "cell_type": "code",
   "execution_count": null,
   "metadata": {},
   "outputs": [],
   "source": [
    "\n",
    "def rasterize_polygon(self, gdf, snap_to):\n",
    "        if gdf.empty:\n",
    "            raster = np.full(snap_to.shape, 0, dtype=np.int8)\n",
    "            raster = xr.DataArray(raster, dims=snap_to.dims, coords=snap_to.coords)\n",
    "\n",
    "            return raster.rio.write_crs(snap_to.rio.crs, inplace=True)\n",
    "\n",
    "        raster = make_geocube(\n",
    "            vector_data=gdf,\n",
    "            measurements=[\"Value\"],\n",
    "            like=snap_to,\n",
    "            fill=np.int8(0)\n",
    "        ).Value\n",
    "\n",
    "        return raster.rio.reproject_match(snap_to)\n",
    "\n",
    "\n",
    "\n",
    "\n",
    "\n",
    "\n",
    "\n",
    "\n"
   ]
  },
  {
   "cell_type": "markdown",
   "metadata": {},
   "source": [
    "# ERA5"
   ]
  },
  {
   "cell_type": "code",
   "execution_count": null,
   "metadata": {},
   "outputs": [],
   "source": [
    "#TODO"
   ]
  },
  {
   "cell_type": "markdown",
   "metadata": {},
   "source": [
    "# LULCv2"
   ]
  },
  {
   "cell_type": "code",
   "execution_count": null,
   "metadata": {},
   "outputs": [],
   "source": [
    "from city_metrix.layers import SmartSurfaceLULC\n",
    "\n",
    "aoi_smart_surface_lulc = SmartSurfaceLULC().get_data(aoi_gdf.total_bounds)\n"
   ]
  },
  {
   "cell_type": "code",
   "execution_count": null,
   "metadata": {},
   "outputs": [],
   "source": [
    "from matplotlib.colors import ListedColormap\n",
    "from enum import Enum\n",
    "\n",
    "# Define the lulcPaletteV3\n",
    "lulcPaletteV3 = [\n",
    "    'b2df8a',\n",
    "    'cccccc',\n",
    "    '808080',\n",
    "    '33a02c',\n",
    "    'a6cee3',\n",
    "    '000000',\n",
    "    '493910',\n",
    "    '5e4915',\n",
    "    '735a19',\n",
    "    '886a1e',\n",
    "    '9d7a23',\n",
    "    'b28b27',\n",
    "    'f5efba',\n",
    "    'c9beb6'\n",
    "]\n",
    "\n",
    "# Define the SsLulcClass Enum\n",
    "class SsLulcClass(Enum):\n",
    "    GREEN_SPACE_OTHER = 1\n",
    "    BUILT_UP_OTHER = 2\n",
    "    BARREN = 3\n",
    "    OPEN_SPACE = 10\n",
    "    WATER = 20\n",
    "    ROADS = 30\n",
    "    NON_CLASSIFIED_BUILDINGS = 40\n",
    "    RESIDENTIAL_HIGH_SLOPE = 41\n",
    "    NON_RESIDENTIAL_HIGH_SLOPE = 42\n",
    "    UNCLASSIFIED_HIGH_SLOPE = 43\n",
    "    RESIDENTIAL_LOW_SLOPE = 44\n",
    "    NON_RESIDENTIAL_LOW_SLOPE = 45\n",
    "    UNCLASSIFIED_LOW_SLOPE = 46\n",
    "    PARKING = 50\n",
    "\n",
    "# Create a colormap dictionary\n",
    "colormap = {cls.value: f'#{color}' for cls, color in zip(SsLulcClass, lulcPaletteV3)}\n",
    "\n",
    "# Create a ListedColormap for matplotlib\n",
    "cmap = ListedColormap([colormap[key] for key in colormap.keys()])"
   ]
  },
  {
   "cell_type": "code",
   "execution_count": null,
   "metadata": {},
   "outputs": [],
   "source": [
    "cmap"
   ]
  },
  {
   "cell_type": "code",
   "execution_count": null,
   "metadata": {},
   "outputs": [],
   "source": [
    "# Convert hex color codes to RGBA tuples\n",
    "def hex_to_rgba(hex_color):\n",
    "    hex_color = hex_color.lstrip('#')\n",
    "    return tuple(int(hex_color[i:i+2], 16) for i in (0, 2, 4)) + (255,)\n",
    "\n",
    "rgba_colormap = {key: hex_to_rgba(value) for key, value in colormap.items()}\n",
    "\n",
    "rgba_colormap"
   ]
  },
  {
   "cell_type": "code",
   "execution_count": null,
   "metadata": {},
   "outputs": [],
   "source": [
    "rgba_colormap"
   ]
  },
  {
   "cell_type": "code",
   "execution_count": null,
   "metadata": {},
   "outputs": [],
   "source": [
    "# Save the DataArray with the colormap as a COG\n",
    "file_path = f'{file_path_prefix(aoi_name)}-smart_surface_lulc_styled.tif'\n",
    "\n",
    "aoi_smart_surface_lulc.rio.to_raster(\n",
    "    file_path,\n",
    "    driver=\"COG\",\n",
    "    dtype=\"uint8\",\n",
    "    compress=\"deflate\")\n",
    "\n",
    "print(f'File saved to {file_path}')"
   ]
  },
  {
   "cell_type": "code",
   "execution_count": null,
   "metadata": {},
   "outputs": [],
   "source": [
    "import rasterio\n",
    "\n",
    "with rasterio.Env():\n",
    "\n",
    "    with rasterio.open(file_path) as src:\n",
    "        shade = src.read(1)\n",
    "        meta = src.meta\n",
    "\n",
    "    with rasterio.open(file_path, 'w', **meta) as dst:\n",
    "        dst.write(shade, indexes=1)\n",
    "        dst.write_colormap(\n",
    "            1, rgba_colormap)\n",
    "        cmap = dst.colormap(1)"
   ]
  }
 ],
 "metadata": {
  "kernelspec": {
   "display_name": "cities-thermal",
   "language": "python",
   "name": "python3"
  },
  "language_info": {
   "codemirror_mode": {
    "name": "ipython",
    "version": 3
   },
   "file_extension": ".py",
   "mimetype": "text/x-python",
   "name": "python",
   "nbconvert_exporter": "python",
   "pygments_lexer": "ipython3",
   "version": "3.12.3"
  }
 },
 "nbformat": 4,
 "nbformat_minor": 2
}
